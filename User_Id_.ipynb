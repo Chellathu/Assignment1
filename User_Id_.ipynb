{
  "nbformat": 4,
  "nbformat_minor": 0,
  "metadata": {
    "colab": {
      "provenance": [],
      "authorship_tag": "ABX9TyMREjq3m9Rn5x66x7eJBBJt",
      "include_colab_link": true
    },
    "kernelspec": {
      "name": "python3",
      "display_name": "Python 3"
    },
    "language_info": {
      "name": "python"
    }
  },
  "cells": [
    {
      "cell_type": "markdown",
      "metadata": {
        "id": "view-in-github",
        "colab_type": "text"
      },
      "source": [
        "<a href=\"https://colab.research.google.com/github/Chellathu/Assignment1/blob/main/User_Id_.ipynb\" target=\"_parent\"><img src=\"https://colab.research.google.com/assets/colab-badge.svg\" alt=\"Open In Colab\"/></a>"
      ]
    },
    {
      "cell_type": "markdown",
      "source": [
        "User Id"
      ],
      "metadata": {
        "id": "tKOUXv2PAaCQ"
      }
    },
    {
      "cell_type": "code",
      "source": [
        "\n",
        "  name = str(input(\"Chellathurai : \"))\n",
        "  surname = str(input(\"M : \"))\n",
        "  email = str(input(\"chellathurai619@gmail.com : \"))\n",
        "  password = str(input(\"Chella@4964 : \"))\n",
        "  confPassword = str(input(\"Chella@4964 : \"))\n",
        "  \n",
        "  if(password == confPassword):\n",
        "      print(\"User Accepted!\")\n",
        "      user = createUser(chellathurai, M, chellathurai619@gmail.com, Chella@4964)\n",
        "  else:\n",
        "      print(\"User Rejected! Invalid Password Combination\")"
      ],
      "metadata": {
        "colab": {
          "base_uri": "https://localhost:8080/",
          "height": 429
        },
        "id": "bSPLRFQoFL5Z",
        "outputId": "8e882e5b-61c2-4443-b55d-6847d264b6c5"
      },
      "execution_count": null,
      "outputs": [
        {
          "output_type": "stream",
          "name": "stdout",
          "text": [
            "Chellathurai : Chellathurai\n",
            "M : M\n",
            "chellathurai619@gmail.com : chellathurai619@gmail.com\n",
            "Chella@4964 : Chella@4964\n",
            "Chella@4964 : Chella@4964\n",
            "User Accepted!\n"
          ]
        },
        {
          "output_type": "error",
          "ename": "NameError",
          "evalue": "ignored",
          "traceback": [
            "\u001b[0;31m---------------------------------------------------------------------------\u001b[0m",
            "\u001b[0;31mNameError\u001b[0m                                 Traceback (most recent call last)",
            "\u001b[0;32m<ipython-input-8-f00a94de366d>\u001b[0m in \u001b[0;36m<module>\u001b[0;34m\u001b[0m\n\u001b[1;32m      7\u001b[0m \u001b[0;32mif\u001b[0m\u001b[0;34m(\u001b[0m\u001b[0mpassword\u001b[0m \u001b[0;34m==\u001b[0m \u001b[0mconfPassword\u001b[0m\u001b[0;34m)\u001b[0m\u001b[0;34m:\u001b[0m\u001b[0;34m\u001b[0m\u001b[0;34m\u001b[0m\u001b[0m\n\u001b[1;32m      8\u001b[0m     \u001b[0mprint\u001b[0m\u001b[0;34m(\u001b[0m\u001b[0;34m\"User Accepted!\"\u001b[0m\u001b[0;34m)\u001b[0m\u001b[0;34m\u001b[0m\u001b[0;34m\u001b[0m\u001b[0m\n\u001b[0;32m----> 9\u001b[0;31m     \u001b[0muser\u001b[0m \u001b[0;34m=\u001b[0m \u001b[0mcreateUser\u001b[0m\u001b[0;34m(\u001b[0m\u001b[0mchellathurai\u001b[0m\u001b[0;34m,\u001b[0m \u001b[0mM\u001b[0m\u001b[0;34m,\u001b[0m \u001b[0mchellathurai619\u001b[0m\u001b[0;34m@\u001b[0m\u001b[0mgmail\u001b[0m\u001b[0;34m.\u001b[0m\u001b[0mcom\u001b[0m\u001b[0;34m,\u001b[0m \u001b[0mChella\u001b[0m\u001b[0;34m@\u001b[0m\u001b[0;36m4964\u001b[0m\u001b[0;34m)\u001b[0m\u001b[0;34m\u001b[0m\u001b[0;34m\u001b[0m\u001b[0m\n\u001b[0m\u001b[1;32m     10\u001b[0m \u001b[0;32melse\u001b[0m\u001b[0;34m:\u001b[0m\u001b[0;34m\u001b[0m\u001b[0;34m\u001b[0m\u001b[0m\n\u001b[1;32m     11\u001b[0m     \u001b[0mprint\u001b[0m\u001b[0;34m(\u001b[0m\u001b[0;34m\"User Rejected! Invalid Password Combination\"\u001b[0m\u001b[0;34m)\u001b[0m\u001b[0;34m\u001b[0m\u001b[0;34m\u001b[0m\u001b[0m\n",
            "\u001b[0;31mNameError\u001b[0m: name 'createUser' is not defined"
          ]
        }
      ]
    },
    {
      "cell_type": "code",
      "source": [
        "\n",
        "  name = str(input(\"Name : \"))\n",
        "  surname = str(input(\"Surname : \"))\n",
        "  email = str(input(\"email : \"))\n",
        "  password = str(input(\"password : \"))\n",
        "  confPassword = str(input(\"confpassword : \"))\n",
        "  \n",
        "  if(password == confPassword):\n",
        "      print(\"User Accepted!\")\n",
        "      user = createUser(chellathurai, M, chellathurai619@gmail.com, Chella@4964)\n",
        "  else:\n",
        "      print(\"User Rejected! Invalid Password Combination\")"
      ],
      "metadata": {
        "id": "K2RipJ7tBvtM"
      },
      "execution_count": null,
      "outputs": []
    }
  ]
}